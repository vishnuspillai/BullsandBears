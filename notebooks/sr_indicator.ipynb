{
 "cells": [
  {
   "cell_type": "code",
   "execution_count": 2,
   "id": "c993984a",
   "metadata": {},
   "outputs": [
    {
     "name": "stdout",
     "output_type": "stream",
     "text": [
      "Requirement already satisfied: pandas in d:\\bullsandbears\\bullsandbears\\.venv\\lib\\site-packages (2.3.1)\n",
      "Requirement already satisfied: numpy>=1.23.2 in d:\\bullsandbears\\bullsandbears\\.venv\\lib\\site-packages (from pandas) (2.3.1)\n",
      "Requirement already satisfied: python-dateutil>=2.8.2 in d:\\bullsandbears\\bullsandbears\\.venv\\lib\\site-packages (from pandas) (2.9.0.post0)\n",
      "Requirement already satisfied: pytz>=2020.1 in d:\\bullsandbears\\bullsandbears\\.venv\\lib\\site-packages (from pandas) (2025.2)\n",
      "Requirement already satisfied: tzdata>=2022.7 in d:\\bullsandbears\\bullsandbears\\.venv\\lib\\site-packages (from pandas) (2025.2)\n",
      "Requirement already satisfied: six>=1.5 in d:\\bullsandbears\\bullsandbears\\.venv\\lib\\site-packages (from python-dateutil>=2.8.2->pandas) (1.17.0)\n",
      "Note: you may need to restart the kernel to use updated packages.\n"
     ]
    },
    {
     "ename": "ModuleNotFoundError",
     "evalue": "No module named 'src'",
     "output_type": "error",
     "traceback": [
      "\u001b[31m---------------------------------------------------------------------------\u001b[39m",
      "\u001b[31mModuleNotFoundError\u001b[39m                       Traceback (most recent call last)",
      "\u001b[36mCell\u001b[39m\u001b[36m \u001b[39m\u001b[32mIn[2]\u001b[39m\u001b[32m, line 14\u001b[39m\n\u001b[32m     12\u001b[39m \u001b[38;5;66;03m# 📥 Load data\u001b[39;00m\n\u001b[32m     13\u001b[39m \u001b[38;5;28;01mimport\u001b[39;00m\u001b[38;5;250m \u001b[39m\u001b[34;01mpandas\u001b[39;00m\u001b[38;5;250m \u001b[39m\u001b[38;5;28;01mas\u001b[39;00m\u001b[38;5;250m \u001b[39m\u001b[34;01mpd\u001b[39;00m\n\u001b[32m---> \u001b[39m\u001b[32m14\u001b[39m \u001b[38;5;28;01mfrom\u001b[39;00m\u001b[38;5;250m \u001b[39m\u001b[34;01msrc\u001b[39;00m\u001b[34;01m.\u001b[39;00m\u001b[34;01mdata_loader\u001b[39;00m\u001b[38;5;250m \u001b[39m\u001b[38;5;28;01mimport\u001b[39;00m download_stock_data\n\u001b[32m     16\u001b[39m df = download_stock_data(\u001b[33m\"\u001b[39m\u001b[33mRELIANCE.NS\u001b[39m\u001b[33m\"\u001b[39m, period=\u001b[33m\"\u001b[39m\u001b[33m6mo\u001b[39m\u001b[33m\"\u001b[39m)\n\u001b[32m     17\u001b[39m df[\u001b[33m'\u001b[39m\u001b[33mDate\u001b[39m\u001b[33m'\u001b[39m] = pd.to_datetime(df[\u001b[33m'\u001b[39m\u001b[33mDate\u001b[39m\u001b[33m'\u001b[39m])\n",
      "\u001b[31mModuleNotFoundError\u001b[39m: No module named 'src'"
     ]
    }
   ],
   "source": [
    "# 📦 Install pandas (if not already installed)\n",
    "%pip install pandas\n",
    "\n",
    "# 📁 Setup sys.path so Python can find src/\n",
    "import sys\n",
    "import os\n",
    "notebook_dir = os.getcwd()\n",
    "src_path = os.path.abspath(os.path.join(notebook_dir, \"..\", \"src\"))\n",
    "if src_path not in sys.path:\n",
    "    sys.path.append(src_path)\n",
    "\n",
    "# 📥 Load data\n",
    "import pandas as pd\n",
    "from src.data_loader import download_stock_data\n",
    "\n",
    "df = download_stock_data(\"RELIANCE.NS\", period=\"6mo\")\n",
    "df['Date'] = pd.to_datetime(df['Date'])\n",
    "\n",
    "# 📈 Compute indicators from src/indicator.py\n",
    "from src.indicator import compute_sma, compute_ema, compute_rsi, compute_macd\n",
    "\n",
    "df['SMA_14'] = compute_sma(df, window=14)\n",
    "df['EMA_14'] = compute_ema(df, span=14)\n",
    "df['RSI_14'] = compute_rsi(df, window=14)\n",
    "\n",
    "macd_df = compute_macd(df)\n",
    "df = pd.concat([df, macd_df], axis=1)\n",
    "\n",
    "# 🧹 Clean up\n",
    "df.dropna(inplace=True)\n",
    "\n",
    "# 🔍 Preview result\n",
    "df[['Date', 'Close', 'SMA_14', 'EMA_14', 'RSI_14', 'MACD_Line', 'Signal_Line', 'MACD_Hist']].tail()\n"
   ]
  }
 ],
 "metadata": {
  "kernelspec": {
   "display_name": ".venv",
   "language": "python",
   "name": "python3"
  },
  "language_info": {
   "codemirror_mode": {
    "name": "ipython",
    "version": 3
   },
   "file_extension": ".py",
   "mimetype": "text/x-python",
   "name": "python",
   "nbconvert_exporter": "python",
   "pygments_lexer": "ipython3",
   "version": "3.11.9"
  }
 },
 "nbformat": 4,
 "nbformat_minor": 5
}
