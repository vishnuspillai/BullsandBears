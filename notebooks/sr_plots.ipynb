{
 "cells": [
  {
   "cell_type": "code",
   "execution_count": null,
   "id": "e93b91bd",
   "metadata": {},
   "outputs": [
    {
     "name": "stdout",
     "output_type": "stream",
     "text": [
      "Downloading RELIANCE.NS...\n"
     ]
    },
    {
     "name": "stderr",
     "output_type": "stream",
     "text": [
      "d:\\BullsandBears\\BullsandBears\\notebooks\\..\\src\\data_loader.py:7: FutureWarning:\n",
      "\n",
      "YF.download() has changed argument auto_adjust default to True\n",
      "\n",
      "[*********************100%***********************]  1 of 1 completed"
     ]
    },
    {
     "name": "stdout",
     "output_type": "stream",
     "text": [
      "Saved to data/raw/\n"
     ]
    },
    {
     "name": "stderr",
     "output_type": "stream",
     "text": [
      "\n"
     ]
    },
    {
     "data": {
      "application/vnd.plotly.v1+json": {
       "config": {
        "plotlyServerURL": "https://plot.ly"
       },
       "data": [
        {
         "close": {
          "bdata": "AAAAYGZfk0AAAAAAAFuTQAAAAMDMkJNAAAAAwMzJk0AAAABgZlmUQAAAAMDMZZRAAAAAwMzmk0AAAABgZvSTQAAAAKCZvpNAAAAAQDN5k0AAAABgZjWTQAAAAKCZSZNAAAAAAABOk0AAAABAM5STQAAAAGBmxJNAAAAAYGbCk0AAAACgmXeTQAAAAMDMFJRAAAAAwMz4k0AAAABAMwaUQAAAAMDMypNAAAAAoJmWk0AAAABgZkuTQAAAAEAzApNAAAAAYGYAk0AAAAAAAAWTQAAAAKCZI5NAAAAAoJklk0AAAADAzC2TQAAAAAAARJNAAAAAoJkwk0AAAABAM/qSQAAAAAAA0JJAAAAAYGbckkAAAABgZsCSQAAAAAAATZJAAAAAoJknkkAAAABgZl6SQAAAAGBm5pJAAAAAQDOHk0AAAACgmVmTQAAAAEAzfZNAAAAAQDOkk0AAAACgmX+TQAAAAGBmW5NAAAAAYGZbk0AAAACgmXyTQAAAAKCZ1JNAAAAAYGbxk0AAAABgZliUQAAAAMDMFZRAAAAAQDPkk0AAAADAzPiTQAAAAGBm7JNAAAAAYGaSk0AAAACgmYyTQAAAAMDMgpNAAAAAwMzSkkAAAADAzDaSQAAAAMDMeJJAAAAAYGaFkkAAAADAzAuTQAAAAGBmYJNAAAAAQDNdk0AAAAAAAOqTQAAAAAAAPpRAAAAAwMwslEAAAAAAAFCUQAAAAGBmVpRAAAAAoJlRlEAAAABAM2OVQAAAAMDM3pVAAAAAAAD0lUAAAABAMy+WQAAAAEAzXZZAAAAAoJkzlkAAAAAAAPiVQAAAAAAA/JVAAAAAwMyElUAAAAAAAHKWQAAAAMDMHpZAAAAAoJlBlkAAAADAzLiWQAAAAKCZwZZAAAAAQDODlkAAAABgZkKWQAAAAMDMVJZAAAAAoJkFlkAAAABAM0uWQAAAAEAza5ZAAAAAYGY4lkAAAACgmROWQAAAAEAzJ5ZAAAAAoJkzlkAAAADAzBaWQAAAAAAA9pVAAAAAAAA+lkAAAACgmYmWQAAAAAAAjpZAAAAAQDOjlkAAAAAAAHqWQAAAAKCZo5ZAAAAAYGaGlkAAAACgmU+WQAAAAEAzd5ZAAAAAwMxclkAAAABgZliWQAAAAEAzZZZAAAAAwMzolkAAAABAM8OWQAAAAEAzq5ZAAAAAQDPtlkAAAABAM12XQAAAAKCZrZdAAAAAYGZyl0AAAACgmeGXQAAAAEAzu5dAAAAAQDO3l0AAAABAM92XQAAAAAAAFphAAAAAYGYGmEAAAAAAALyXQAAAAMDMtJdAAAAAwMxcl0A=",
          "dtype": "f8",
          "shape": "124, 1"
         },
         "decreasing": {
          "line": {
           "color": "red"
          }
         },
         "high": {
          "bdata": "AAAAAAB1k0AAAABgZpWTQAAAAAAApJNAAAAAAADsk0AAAAAAALiUQAAAAAAAkJRAAAAAAACElEAAAACgmQuUQAAAAGBm9ZNAAAAAAADkk0AAAADAzGGTQAAAAAAAc5NAAAAAAABrk0AAAAAAAKSTQAAAAAAAzJNAAAAAQDPak0AAAAAAAKCTQAAAAEAzI5RAAAAAAAAqlEAAAAAAACCUQAAAAMDMDpRAAAAAAADKk0AAAABAM8KTQAAAAKCZK5NAAAAAAAAwk0AAAAAAACCTQAAAAAAALpNAAAAAoJk3k0AAAAAAAEOTQAAAAGBmXZNAAAAAAABgk0AAAAAAAB2TQAAAAAAAFJNAAAAAAAD8kkAAAABgZgWTQAAAAMDM2ZJAAAAAAABYkkAAAAAAAHySQAAAAMDM95JAAAAAQDObk0AAAAAAAKiTQAAAAAAAhpNAAAAAAAC8k0AAAACgmcCTQAAAAKCZpZNAAAAAYGZbk0AAAAAAAJWTQAAAAAAA5JNAAAAAAAAElEAAAAAAAGiUQAAAAMDMbpRAAAAAQDM3lEAAAAAAABSUQAAAAAAAP5RAAAAAoJn3k0AAAABAM56TQAAAAEAzj5NAAAAAwMx1k0AAAAAAAE2SQAAAAGBmspJAAAAAQDOXkkAAAACgmRqTQAAAAAAAjJNAAAAAoJljk0AAAADAzACUQAAAAKCZU5RAAAAAoJlflEAAAAAAAGiUQAAAAAAAYpRAAAAAwMy0lEAAAABgZnqVQAAAAKCZC5ZAAAAAoJkRlkAAAADAzEqWQAAAAAAAfpZAAAAAAABglkAAAACgmUGWQAAAAEAzM5ZAAAAAQDPLlUAAAAAAAHyWQAAAAMDMnpZAAAAAoJlXlkAAAACgmdWWQAAAAAAA1JZAAAAAYGa6lkAAAAAAAJSWQAAAAMDMcJZAAAAAQDM/lkAAAABAM2eWQAAAAAAAhJZAAAAAAAB0lkAAAABgZjqWQAAAAAAAMJZAAAAAYGZalkAAAAAAACaWQAAAAAAASpZAAAAAwMxGlkAAAADAzLqWQAAAAAAArpZAAAAAAADGlkAAAACgmbeWQAAAAGBm8pZAAAAAAADElkAAAAAAAG6WQAAAAKCZiZZAAAAAAACglkAAAABAM4uWQAAAAKCZf5ZAAAAAAAD8lkAAAABAM9+WQAAAAAAADJdAAAAAoJkBl0AAAABAM2uXQAAAAAAAyJdAAAAAQDPTl0AAAACgme2XQAAAAAAA6JdAAAAAoJnvl0AAAAAAAOiXQAAAAEAzI5hAAAAAoJkjmEAAAAAAADyYQAAAAMDM0pdAAAAAAACsl0A=",
          "dtype": "f8",
          "shape": "124, 1"
         },
         "increasing": {
          "line": {
           "color": "green"
          }
         },
         "low": {
          "bdata": "AAAAoJkpk0AAAAAAAC2TQAAAAGBmZ5NAAAAAQDONk0AAAAAAABSUQAAAAAAAUZRAAAAAwMzYk0AAAADAzNKTQAAAAGBmtpNAAAAAAABuk0AAAAAAABCTQAAAAAAACpNAAAAAQDMwk0AAAACgmUGTQAAAAAAAhJNAAAAAAABkk0AAAABAM1aTQAAAAGBmepNAAAAAwMzyk0AAAABgZtmTQAAAAAAAuJNAAAAAQDN2k0AAAABgZjiTQAAAAGBmpZJAAAAAAADwkkAAAADAzNWSQAAAAAAA0pJAAAAAYGYAk0AAAABAMwaTQAAAAAAAGJNAAAAAoJkYk0AAAAAAAOqSQAAAAAAAxpJAAAAAoJnCkkAAAABAM6WSQAAAAAAAEJJAAAAAQDMekkAAAAAAABSSQAAAAKCZhJJAAAAAAADwkkAAAACgmU2TQAAAAAAAN5NAAAAAAABwk0AAAABgZm+TQAAAAGBmRJNAAAAAYGZbk0AAAABAM1uTQAAAAEAziJNAAAAAYGbYk0AAAAAAABGUQAAAAGBmCpRAAAAAAADTk0AAAABAM92TQAAAAAAA1JNAAAAAQDOFk0AAAACgmW+TQAAAAEAzRJNAAAAAoJmkkkAAAABgZmuRQAAAAEAzLZJAAAAAAABAkkAAAACgmaySQAAAAGBmVJNAAAAAAAA0k0AAAABgZi6TQAAAAAAAzJNAAAAAQDMZlEAAAACgmRWUQAAAAEAzKZRAAAAAYGYglEAAAADAzKCUQAAAAAAAaJVAAAAAAABklUAAAABgZgSWQAAAAKCZS5ZAAAAAYGYKlkAAAADAzOqVQAAAAAAA2JVAAAAAAAB6lUAAAAAAAOCVQAAAAKCZEZZAAAAAAAAelkAAAADAzBKWQAAAAEAznZZAAAAAwMx4lkAAAABAMzeWQAAAAGBmKJZAAAAAoJnTlUAAAABgZvqVQAAAAGBmRJZAAAAAoJkXlkAAAADAzAqWQAAAAGBmApZAAAAAwMwGlkAAAABgZs6VQAAAAKCZ7ZVAAAAAYGb4lUAAAABgZj6WQAAAAAAAdJZAAAAAQDOVlkAAAAAAAHCWQAAAAGBmjJZAAAAAoJlplkAAAABAMxmWQAAAAKCZQZZAAAAAQDNHlkAAAADAzEaWQAAAAMDMRpZAAAAAYGZQlkAAAAAAAIiWQAAAAGBmjJZAAAAAAADSlkAAAABgZuSWQAAAAKCZY5dAAAAAAABgl0AAAABgZnCXQAAAAMDMkpdAAAAAAACkl0AAAADAzLSXQAAAAAAA1JdAAAAAwMzol0AAAABgZpiXQAAAAAAAjpdAAAAAQDNJl0A=",
          "dtype": "f8",
          "shape": "124, 1"
         },
         "name": "Candlestick",
         "open": {
          "bdata": "AAAAAAA4k0AAAABgZnCTQAAAAMDMc5NAAAAAoJmrk0AAAAAAAKmUQAAAAAAAkJRAAAAAAAB6lEAAAABAM/mTQAAAAAAA2JNAAAAAAADIk0AAAABgZlyTQAAAAAAAWJNAAAAAAABQk0AAAABAM06TQAAAAGBmn5NAAAAAYGbEk0AAAAAAAIyTQAAAAEAzgJNAAAAAoJkKlEAAAADAzOaTQAAAAKCZ8JNAAAAAAADCk0AAAABAM8KTQAAAAMDMDZNAAAAAQDMEk0AAAAAAAAyTQAAAAGBm7JJAAAAAYGYjk0AAAAAAAA6TQAAAAMDMH5NAAAAAwMwyk0AAAABAMwKTQAAAAAAA7JJAAAAAQDPzkkAAAAAAAMiSQAAAAAAA0JJAAAAAwMwokkAAAAAAACSSQAAAAAAAtJJAAAAAAAAAk0AAAAAAAHSTQAAAAAAAYJNAAAAAAACok0AAAABAM7CTQAAAAKCZaJNAAAAAYGZbk0AAAABAM2STQAAAAGBmj5NAAAAAAADsk0AAAAAAACyUQAAAAMDMbpRAAAAAAAAslEAAAACgmfiTQAAAAAAAAJRAAAAAYGbCk0AAAABAM36TQAAAAEAzRJNAAAAAYGZkk0AAAADAzLCRQAAAAAAAUJJAAAAAAABGkkAAAACgmaySQAAAAAAAjJNAAAAAYGZIk0AAAADAzGCTQAAAAAAA2JNAAAAAAABQlEAAAAAAAESUQAAAAKCZMZRAAAAAAABelEAAAAAAAPCUQAAAAAAAbJVAAAAAAADolUAAAAAAABiWQAAAAAAAXJZAAAAAAABclkAAAACgmTOWQAAAAGBm8JVAAAAAAACmlUAAAAAAAOCVQAAAAAAAZpZAAAAAAAAwlkAAAAAAAESWQAAAAMDMtJZAAAAAYGawlkAAAADAzHiWQAAAAKCZP5ZAAAAAwMw0lkAAAABgZvqVQAAAAAAAYJZAAAAAYGZIlkAAAABgZjCWQAAAAGBmEJZAAAAAAAAolkAAAABgZhCWQAAAAEAzOZZAAAAAwMwalkAAAAAAAFCWQAAAAAAAhJZAAAAAAADElkAAAAAAAKiWQAAAAEAzl5ZAAAAAAAC2lkAAAAAAAECWQAAAAKCZS5ZAAAAAAACglkAAAAAAAFiWQAAAAGBmWJZAAAAAAABclkAAAAAAALSWQAAAAAAA5JZAAAAAAADglkAAAABgZvSWQAAAAKCZbZdAAAAAQDOnl0AAAABgZnKXQAAAAKCZ4ZdAAAAAQDPDl0AAAAAAANCXQAAAAGBm2pdAAAAAAAAAmEAAAADAzAKYQAAAAMDMvpdAAAAAAACgl0A=",
          "dtype": "f8",
          "shape": "124, 1"
         },
         "type": "candlestick",
         "x": [
          "2025-01-13T00:00:00.000000000",
          "2025-01-14T00:00:00.000000000",
          "2025-01-15T00:00:00.000000000",
          "2025-01-16T00:00:00.000000000",
          "2025-01-17T00:00:00.000000000",
          "2025-01-20T00:00:00.000000000",
          "2025-01-21T00:00:00.000000000",
          "2025-01-22T00:00:00.000000000",
          "2025-01-23T00:00:00.000000000",
          "2025-01-24T00:00:00.000000000",
          "2025-01-27T00:00:00.000000000",
          "2025-01-28T00:00:00.000000000",
          "2025-01-29T00:00:00.000000000",
          "2025-01-30T00:00:00.000000000",
          "2025-01-31T00:00:00.000000000",
          "2025-02-01T00:00:00.000000000",
          "2025-02-03T00:00:00.000000000",
          "2025-02-04T00:00:00.000000000",
          "2025-02-05T00:00:00.000000000",
          "2025-02-06T00:00:00.000000000",
          "2025-02-07T00:00:00.000000000",
          "2025-02-10T00:00:00.000000000",
          "2025-02-11T00:00:00.000000000",
          "2025-02-12T00:00:00.000000000",
          "2025-02-13T00:00:00.000000000",
          "2025-02-14T00:00:00.000000000",
          "2025-02-17T00:00:00.000000000",
          "2025-02-18T00:00:00.000000000",
          "2025-02-19T00:00:00.000000000",
          "2025-02-20T00:00:00.000000000",
          "2025-02-21T00:00:00.000000000",
          "2025-02-24T00:00:00.000000000",
          "2025-02-25T00:00:00.000000000",
          "2025-02-27T00:00:00.000000000",
          "2025-02-28T00:00:00.000000000",
          "2025-03-03T00:00:00.000000000",
          "2025-03-04T00:00:00.000000000",
          "2025-03-05T00:00:00.000000000",
          "2025-03-06T00:00:00.000000000",
          "2025-03-07T00:00:00.000000000",
          "2025-03-10T00:00:00.000000000",
          "2025-03-11T00:00:00.000000000",
          "2025-03-12T00:00:00.000000000",
          "2025-03-13T00:00:00.000000000",
          "2025-03-17T00:00:00.000000000",
          "2025-03-18T00:00:00.000000000",
          "2025-03-19T00:00:00.000000000",
          "2025-03-20T00:00:00.000000000",
          "2025-03-21T00:00:00.000000000",
          "2025-03-24T00:00:00.000000000",
          "2025-03-25T00:00:00.000000000",
          "2025-03-26T00:00:00.000000000",
          "2025-03-27T00:00:00.000000000",
          "2025-03-28T00:00:00.000000000",
          "2025-04-01T00:00:00.000000000",
          "2025-04-02T00:00:00.000000000",
          "2025-04-03T00:00:00.000000000",
          "2025-04-04T00:00:00.000000000",
          "2025-04-07T00:00:00.000000000",
          "2025-04-08T00:00:00.000000000",
          "2025-04-09T00:00:00.000000000",
          "2025-04-11T00:00:00.000000000",
          "2025-04-15T00:00:00.000000000",
          "2025-04-16T00:00:00.000000000",
          "2025-04-17T00:00:00.000000000",
          "2025-04-21T00:00:00.000000000",
          "2025-04-22T00:00:00.000000000",
          "2025-04-23T00:00:00.000000000",
          "2025-04-24T00:00:00.000000000",
          "2025-04-25T00:00:00.000000000",
          "2025-04-28T00:00:00.000000000",
          "2025-04-29T00:00:00.000000000",
          "2025-04-30T00:00:00.000000000",
          "2025-05-02T00:00:00.000000000",
          "2025-05-05T00:00:00.000000000",
          "2025-05-06T00:00:00.000000000",
          "2025-05-07T00:00:00.000000000",
          "2025-05-08T00:00:00.000000000",
          "2025-05-09T00:00:00.000000000",
          "2025-05-12T00:00:00.000000000",
          "2025-05-13T00:00:00.000000000",
          "2025-05-14T00:00:00.000000000",
          "2025-05-15T00:00:00.000000000",
          "2025-05-16T00:00:00.000000000",
          "2025-05-19T00:00:00.000000000",
          "2025-05-20T00:00:00.000000000",
          "2025-05-21T00:00:00.000000000",
          "2025-05-22T00:00:00.000000000",
          "2025-05-23T00:00:00.000000000",
          "2025-05-26T00:00:00.000000000",
          "2025-05-27T00:00:00.000000000",
          "2025-05-28T00:00:00.000000000",
          "2025-05-29T00:00:00.000000000",
          "2025-05-30T00:00:00.000000000",
          "2025-06-02T00:00:00.000000000",
          "2025-06-03T00:00:00.000000000",
          "2025-06-04T00:00:00.000000000",
          "2025-06-05T00:00:00.000000000",
          "2025-06-06T00:00:00.000000000",
          "2025-06-09T00:00:00.000000000",
          "2025-06-10T00:00:00.000000000",
          "2025-06-11T00:00:00.000000000",
          "2025-06-12T00:00:00.000000000",
          "2025-06-13T00:00:00.000000000",
          "2025-06-16T00:00:00.000000000",
          "2025-06-17T00:00:00.000000000",
          "2025-06-18T00:00:00.000000000",
          "2025-06-19T00:00:00.000000000",
          "2025-06-20T00:00:00.000000000",
          "2025-06-23T00:00:00.000000000",
          "2025-06-24T00:00:00.000000000",
          "2025-06-25T00:00:00.000000000",
          "2025-06-26T00:00:00.000000000",
          "2025-06-27T00:00:00.000000000",
          "2025-06-30T00:00:00.000000000",
          "2025-07-01T00:00:00.000000000",
          "2025-07-02T00:00:00.000000000",
          "2025-07-03T00:00:00.000000000",
          "2025-07-04T00:00:00.000000000",
          "2025-07-07T00:00:00.000000000",
          "2025-07-08T00:00:00.000000000",
          "2025-07-09T00:00:00.000000000",
          "2025-07-10T00:00:00.000000000",
          "2025-07-11T00:00:00.000000000"
         ]
        },
        {
         "marker": {
          "color": "green",
          "size": 8,
          "symbol": "x"
         },
         "mode": "markers+text",
         "name": "Support",
         "text": [
          "Support"
         ],
         "textposition": "top center",
         "type": "scatter",
         "x": [
          "2025-01-13T00:00:00"
         ],
         "y": [
          1226.4000244140625
         ]
        },
        {
         "marker": {
          "color": "green",
          "size": 8,
          "symbol": "x"
         },
         "mode": "markers+text",
         "name": "Support",
         "text": [
          "Support"
         ],
         "textposition": "top center",
         "type": "scatter",
         "x": [
          "2025-01-28T00:00:00"
         ],
         "y": [
          1218.5
         ]
        },
        {
         "marker": {
          "color": "green",
          "size": 8,
          "symbol": "x"
         },
         "mode": "markers+text",
         "name": "Support",
         "text": [
          "Support"
         ],
         "textposition": "top center",
         "type": "scatter",
         "x": [
          "2025-02-12T00:00:00"
         ],
         "y": [
          1193.3499755859375
         ]
        },
        {
         "marker": {
          "color": "green",
          "size": 8,
          "symbol": "x"
         },
         "mode": "markers+text",
         "name": "Support",
         "text": [
          "Support"
         ],
         "textposition": "top center",
         "type": "scatter",
         "x": [
          "2025-03-03T00:00:00"
         ],
         "y": [
          1156
         ]
        },
        {
         "marker": {
          "color": "green",
          "size": 8,
          "symbol": "x"
         },
         "mode": "markers+text",
         "name": "Support",
         "text": [
          "Support"
         ],
         "textposition": "top center",
         "type": "scatter",
         "x": [
          "2025-04-07T00:00:00"
         ],
         "y": [
          1114.8499755859375
         ]
        },
        {
         "marker": {
          "color": "green",
          "size": 8,
          "symbol": "x"
         },
         "mode": "markers+text",
         "name": "Support",
         "text": [
          "Support"
         ],
         "textposition": "top center",
         "type": "scatter",
         "x": [
          "2025-05-09T00:00:00"
         ],
         "y": [
          1374.5
         ]
        },
        {
         "marker": {
          "color": "green",
          "size": 8,
          "symbol": "x"
         },
         "mode": "markers+text",
         "name": "Support",
         "text": [
          "Support"
         ],
         "textposition": "top center",
         "type": "scatter",
         "x": [
          "2025-05-22T00:00:00"
         ],
         "y": [
          1396.9000244140625
         ]
        },
        {
         "marker": {
          "color": "green",
          "size": 8,
          "symbol": "x"
         },
         "mode": "markers+text",
         "name": "Support",
         "text": [
          "Support"
         ],
         "textposition": "top center",
         "type": "scatter",
         "x": [
          "2025-06-02T00:00:00"
         ],
         "y": [
          1395.5999755859375
         ]
        },
        {
         "marker": {
          "color": "green",
          "size": 8,
          "symbol": "x"
         },
         "mode": "markers+text",
         "name": "Support",
         "text": [
          "Support"
         ],
         "textposition": "top center",
         "type": "scatter",
         "x": [
          "2025-06-13T00:00:00"
         ],
         "y": [
          1414.300048828125
         ]
        },
        {
         "marker": {
          "color": "green",
          "size": 8,
          "symbol": "x"
         },
         "mode": "markers+text",
         "name": "Support",
         "text": [
          "Support"
         ],
         "textposition": "top center",
         "type": "scatter",
         "x": [
          "2025-07-11T00:00:00"
         ],
         "y": [
          1490.300048828125
         ]
        },
        {
         "marker": {
          "color": "red",
          "size": 8,
          "symbol": "x"
         },
         "mode": "markers+text",
         "name": "Resistance",
         "text": [
          "Resistance"
         ],
         "textposition": "top center",
         "type": "scatter",
         "x": [
          "2025-01-17T00:00:00"
         ],
         "y": [
          1326
         ]
        },
        {
         "marker": {
          "color": "red",
          "size": 8,
          "symbol": "x"
         },
         "mode": "markers+text",
         "name": "Resistance",
         "text": [
          "Resistance"
         ],
         "textposition": "top center",
         "type": "scatter",
         "x": [
          "2025-02-05T00:00:00"
         ],
         "y": [
          1290.5
         ]
        },
        {
         "marker": {
          "color": "red",
          "size": 8,
          "symbol": "x"
         },
         "mode": "markers+text",
         "name": "Resistance",
         "text": [
          "Resistance"
         ],
         "textposition": "top center",
         "type": "scatter",
         "x": [
          "2025-02-21T00:00:00"
         ],
         "y": [
          1240
         ]
        },
        {
         "marker": {
          "color": "red",
          "size": 8,
          "symbol": "x"
         },
         "mode": "markers+text",
         "name": "Resistance",
         "text": [
          "Resistance"
         ],
         "textposition": "top center",
         "type": "scatter",
         "x": [
          "2025-03-25T00:00:00"
         ],
         "y": [
          1307.699951171875
         ]
        },
        {
         "marker": {
          "color": "red",
          "size": 8,
          "symbol": "x"
         },
         "mode": "markers+text",
         "name": "Resistance",
         "text": [
          "Resistance"
         ],
         "textposition": "top center",
         "type": "scatter",
         "x": [
          "2025-05-05T00:00:00"
         ],
         "y": [
          1439.5
         ]
        },
        {
         "marker": {
          "color": "red",
          "size": 8,
          "symbol": "x"
         },
         "mode": "markers+text",
         "name": "Resistance",
         "text": [
          "Resistance"
         ],
         "textposition": "top center",
         "type": "scatter",
         "x": [
          "2025-05-15T00:00:00"
         ],
         "y": [
          1461.4000244140625
         ]
        },
        {
         "marker": {
          "color": "red",
          "size": 8,
          "symbol": "x"
         },
         "mode": "markers+text",
         "name": "Resistance",
         "text": [
          "Resistance"
         ],
         "textposition": "top center",
         "type": "scatter",
         "x": [
          "2025-06-11T00:00:00"
         ],
         "y": [
          1468.5999755859375
         ]
        },
        {
         "marker": {
          "color": "red",
          "size": 8,
          "symbol": "x"
         },
         "mode": "markers+text",
         "name": "Resistance",
         "text": [
          "Resistance"
         ],
         "textposition": "top center",
         "type": "scatter",
         "x": [
          "2025-07-09T00:00:00"
         ],
         "y": [
          1551
         ]
        }
       ],
       "layout": {
        "height": 600,
        "template": {
         "data": {
          "bar": [
           {
            "error_x": {
             "color": "#2a3f5f"
            },
            "error_y": {
             "color": "#2a3f5f"
            },
            "marker": {
             "line": {
              "color": "white",
              "width": 0.5
             },
             "pattern": {
              "fillmode": "overlay",
              "size": 10,
              "solidity": 0.2
             }
            },
            "type": "bar"
           }
          ],
          "barpolar": [
           {
            "marker": {
             "line": {
              "color": "white",
              "width": 0.5
             },
             "pattern": {
              "fillmode": "overlay",
              "size": 10,
              "solidity": 0.2
             }
            },
            "type": "barpolar"
           }
          ],
          "carpet": [
           {
            "aaxis": {
             "endlinecolor": "#2a3f5f",
             "gridcolor": "#C8D4E3",
             "linecolor": "#C8D4E3",
             "minorgridcolor": "#C8D4E3",
             "startlinecolor": "#2a3f5f"
            },
            "baxis": {
             "endlinecolor": "#2a3f5f",
             "gridcolor": "#C8D4E3",
             "linecolor": "#C8D4E3",
             "minorgridcolor": "#C8D4E3",
             "startlinecolor": "#2a3f5f"
            },
            "type": "carpet"
           }
          ],
          "choropleth": [
           {
            "colorbar": {
             "outlinewidth": 0,
             "ticks": ""
            },
            "type": "choropleth"
           }
          ],
          "contour": [
           {
            "colorbar": {
             "outlinewidth": 0,
             "ticks": ""
            },
            "colorscale": [
             [
              0,
              "#0d0887"
             ],
             [
              0.1111111111111111,
              "#46039f"
             ],
             [
              0.2222222222222222,
              "#7201a8"
             ],
             [
              0.3333333333333333,
              "#9c179e"
             ],
             [
              0.4444444444444444,
              "#bd3786"
             ],
             [
              0.5555555555555556,
              "#d8576b"
             ],
             [
              0.6666666666666666,
              "#ed7953"
             ],
             [
              0.7777777777777778,
              "#fb9f3a"
             ],
             [
              0.8888888888888888,
              "#fdca26"
             ],
             [
              1,
              "#f0f921"
             ]
            ],
            "type": "contour"
           }
          ],
          "contourcarpet": [
           {
            "colorbar": {
             "outlinewidth": 0,
             "ticks": ""
            },
            "type": "contourcarpet"
           }
          ],
          "heatmap": [
           {
            "colorbar": {
             "outlinewidth": 0,
             "ticks": ""
            },
            "colorscale": [
             [
              0,
              "#0d0887"
             ],
             [
              0.1111111111111111,
              "#46039f"
             ],
             [
              0.2222222222222222,
              "#7201a8"
             ],
             [
              0.3333333333333333,
              "#9c179e"
             ],
             [
              0.4444444444444444,
              "#bd3786"
             ],
             [
              0.5555555555555556,
              "#d8576b"
             ],
             [
              0.6666666666666666,
              "#ed7953"
             ],
             [
              0.7777777777777778,
              "#fb9f3a"
             ],
             [
              0.8888888888888888,
              "#fdca26"
             ],
             [
              1,
              "#f0f921"
             ]
            ],
            "type": "heatmap"
           }
          ],
          "histogram": [
           {
            "marker": {
             "pattern": {
              "fillmode": "overlay",
              "size": 10,
              "solidity": 0.2
             }
            },
            "type": "histogram"
           }
          ],
          "histogram2d": [
           {
            "colorbar": {
             "outlinewidth": 0,
             "ticks": ""
            },
            "colorscale": [
             [
              0,
              "#0d0887"
             ],
             [
              0.1111111111111111,
              "#46039f"
             ],
             [
              0.2222222222222222,
              "#7201a8"
             ],
             [
              0.3333333333333333,
              "#9c179e"
             ],
             [
              0.4444444444444444,
              "#bd3786"
             ],
             [
              0.5555555555555556,
              "#d8576b"
             ],
             [
              0.6666666666666666,
              "#ed7953"
             ],
             [
              0.7777777777777778,
              "#fb9f3a"
             ],
             [
              0.8888888888888888,
              "#fdca26"
             ],
             [
              1,
              "#f0f921"
             ]
            ],
            "type": "histogram2d"
           }
          ],
          "histogram2dcontour": [
           {
            "colorbar": {
             "outlinewidth": 0,
             "ticks": ""
            },
            "colorscale": [
             [
              0,
              "#0d0887"
             ],
             [
              0.1111111111111111,
              "#46039f"
             ],
             [
              0.2222222222222222,
              "#7201a8"
             ],
             [
              0.3333333333333333,
              "#9c179e"
             ],
             [
              0.4444444444444444,
              "#bd3786"
             ],
             [
              0.5555555555555556,
              "#d8576b"
             ],
             [
              0.6666666666666666,
              "#ed7953"
             ],
             [
              0.7777777777777778,
              "#fb9f3a"
             ],
             [
              0.8888888888888888,
              "#fdca26"
             ],
             [
              1,
              "#f0f921"
             ]
            ],
            "type": "histogram2dcontour"
           }
          ],
          "mesh3d": [
           {
            "colorbar": {
             "outlinewidth": 0,
             "ticks": ""
            },
            "type": "mesh3d"
           }
          ],
          "parcoords": [
           {
            "line": {
             "colorbar": {
              "outlinewidth": 0,
              "ticks": ""
             }
            },
            "type": "parcoords"
           }
          ],
          "pie": [
           {
            "automargin": true,
            "type": "pie"
           }
          ],
          "scatter": [
           {
            "fillpattern": {
             "fillmode": "overlay",
             "size": 10,
             "solidity": 0.2
            },
            "type": "scatter"
           }
          ],
          "scatter3d": [
           {
            "line": {
             "colorbar": {
              "outlinewidth": 0,
              "ticks": ""
             }
            },
            "marker": {
             "colorbar": {
              "outlinewidth": 0,
              "ticks": ""
             }
            },
            "type": "scatter3d"
           }
          ],
          "scattercarpet": [
           {
            "marker": {
             "colorbar": {
              "outlinewidth": 0,
              "ticks": ""
             }
            },
            "type": "scattercarpet"
           }
          ],
          "scattergeo": [
           {
            "marker": {
             "colorbar": {
              "outlinewidth": 0,
              "ticks": ""
             }
            },
            "type": "scattergeo"
           }
          ],
          "scattergl": [
           {
            "marker": {
             "colorbar": {
              "outlinewidth": 0,
              "ticks": ""
             }
            },
            "type": "scattergl"
           }
          ],
          "scattermap": [
           {
            "marker": {
             "colorbar": {
              "outlinewidth": 0,
              "ticks": ""
             }
            },
            "type": "scattermap"
           }
          ],
          "scattermapbox": [
           {
            "marker": {
             "colorbar": {
              "outlinewidth": 0,
              "ticks": ""
             }
            },
            "type": "scattermapbox"
           }
          ],
          "scatterpolar": [
           {
            "marker": {
             "colorbar": {
              "outlinewidth": 0,
              "ticks": ""
             }
            },
            "type": "scatterpolar"
           }
          ],
          "scatterpolargl": [
           {
            "marker": {
             "colorbar": {
              "outlinewidth": 0,
              "ticks": ""
             }
            },
            "type": "scatterpolargl"
           }
          ],
          "scatterternary": [
           {
            "marker": {
             "colorbar": {
              "outlinewidth": 0,
              "ticks": ""
             }
            },
            "type": "scatterternary"
           }
          ],
          "surface": [
           {
            "colorbar": {
             "outlinewidth": 0,
             "ticks": ""
            },
            "colorscale": [
             [
              0,
              "#0d0887"
             ],
             [
              0.1111111111111111,
              "#46039f"
             ],
             [
              0.2222222222222222,
              "#7201a8"
             ],
             [
              0.3333333333333333,
              "#9c179e"
             ],
             [
              0.4444444444444444,
              "#bd3786"
             ],
             [
              0.5555555555555556,
              "#d8576b"
             ],
             [
              0.6666666666666666,
              "#ed7953"
             ],
             [
              0.7777777777777778,
              "#fb9f3a"
             ],
             [
              0.8888888888888888,
              "#fdca26"
             ],
             [
              1,
              "#f0f921"
             ]
            ],
            "type": "surface"
           }
          ],
          "table": [
           {
            "cells": {
             "fill": {
              "color": "#EBF0F8"
             },
             "line": {
              "color": "white"
             }
            },
            "header": {
             "fill": {
              "color": "#C8D4E3"
             },
             "line": {
              "color": "white"
             }
            },
            "type": "table"
           }
          ]
         },
         "layout": {
          "annotationdefaults": {
           "arrowcolor": "#2a3f5f",
           "arrowhead": 0,
           "arrowwidth": 1
          },
          "autotypenumbers": "strict",
          "coloraxis": {
           "colorbar": {
            "outlinewidth": 0,
            "ticks": ""
           }
          },
          "colorscale": {
           "diverging": [
            [
             0,
             "#8e0152"
            ],
            [
             0.1,
             "#c51b7d"
            ],
            [
             0.2,
             "#de77ae"
            ],
            [
             0.3,
             "#f1b6da"
            ],
            [
             0.4,
             "#fde0ef"
            ],
            [
             0.5,
             "#f7f7f7"
            ],
            [
             0.6,
             "#e6f5d0"
            ],
            [
             0.7,
             "#b8e186"
            ],
            [
             0.8,
             "#7fbc41"
            ],
            [
             0.9,
             "#4d9221"
            ],
            [
             1,
             "#276419"
            ]
           ],
           "sequential": [
            [
             0,
             "#0d0887"
            ],
            [
             0.1111111111111111,
             "#46039f"
            ],
            [
             0.2222222222222222,
             "#7201a8"
            ],
            [
             0.3333333333333333,
             "#9c179e"
            ],
            [
             0.4444444444444444,
             "#bd3786"
            ],
            [
             0.5555555555555556,
             "#d8576b"
            ],
            [
             0.6666666666666666,
             "#ed7953"
            ],
            [
             0.7777777777777778,
             "#fb9f3a"
            ],
            [
             0.8888888888888888,
             "#fdca26"
            ],
            [
             1,
             "#f0f921"
            ]
           ],
           "sequentialminus": [
            [
             0,
             "#0d0887"
            ],
            [
             0.1111111111111111,
             "#46039f"
            ],
            [
             0.2222222222222222,
             "#7201a8"
            ],
            [
             0.3333333333333333,
             "#9c179e"
            ],
            [
             0.4444444444444444,
             "#bd3786"
            ],
            [
             0.5555555555555556,
             "#d8576b"
            ],
            [
             0.6666666666666666,
             "#ed7953"
            ],
            [
             0.7777777777777778,
             "#fb9f3a"
            ],
            [
             0.8888888888888888,
             "#fdca26"
            ],
            [
             1,
             "#f0f921"
            ]
           ]
          },
          "colorway": [
           "#636efa",
           "#EF553B",
           "#00cc96",
           "#ab63fa",
           "#FFA15A",
           "#19d3f3",
           "#FF6692",
           "#B6E880",
           "#FF97FF",
           "#FECB52"
          ],
          "font": {
           "color": "#2a3f5f"
          },
          "geo": {
           "bgcolor": "white",
           "lakecolor": "white",
           "landcolor": "white",
           "showlakes": true,
           "showland": true,
           "subunitcolor": "#C8D4E3"
          },
          "hoverlabel": {
           "align": "left"
          },
          "hovermode": "closest",
          "mapbox": {
           "style": "light"
          },
          "paper_bgcolor": "white",
          "plot_bgcolor": "white",
          "polar": {
           "angularaxis": {
            "gridcolor": "#EBF0F8",
            "linecolor": "#EBF0F8",
            "ticks": ""
           },
           "bgcolor": "white",
           "radialaxis": {
            "gridcolor": "#EBF0F8",
            "linecolor": "#EBF0F8",
            "ticks": ""
           }
          },
          "scene": {
           "xaxis": {
            "backgroundcolor": "white",
            "gridcolor": "#DFE8F3",
            "gridwidth": 2,
            "linecolor": "#EBF0F8",
            "showbackground": true,
            "ticks": "",
            "zerolinecolor": "#EBF0F8"
           },
           "yaxis": {
            "backgroundcolor": "white",
            "gridcolor": "#DFE8F3",
            "gridwidth": 2,
            "linecolor": "#EBF0F8",
            "showbackground": true,
            "ticks": "",
            "zerolinecolor": "#EBF0F8"
           },
           "zaxis": {
            "backgroundcolor": "white",
            "gridcolor": "#DFE8F3",
            "gridwidth": 2,
            "linecolor": "#EBF0F8",
            "showbackground": true,
            "ticks": "",
            "zerolinecolor": "#EBF0F8"
           }
          },
          "shapedefaults": {
           "line": {
            "color": "#2a3f5f"
           }
          },
          "ternary": {
           "aaxis": {
            "gridcolor": "#DFE8F3",
            "linecolor": "#A2B1C6",
            "ticks": ""
           },
           "baxis": {
            "gridcolor": "#DFE8F3",
            "linecolor": "#A2B1C6",
            "ticks": ""
           },
           "bgcolor": "white",
           "caxis": {
            "gridcolor": "#DFE8F3",
            "linecolor": "#A2B1C6",
            "ticks": ""
           }
          },
          "title": {
           "x": 0.05
          },
          "xaxis": {
           "automargin": true,
           "gridcolor": "#EBF0F8",
           "linecolor": "#EBF0F8",
           "ticks": "",
           "title": {
            "standoff": 15
           },
           "zerolinecolor": "#EBF0F8",
           "zerolinewidth": 2
          },
          "yaxis": {
           "automargin": true,
           "gridcolor": "#EBF0F8",
           "linecolor": "#EBF0F8",
           "ticks": "",
           "title": {
            "standoff": 15
           },
           "zerolinecolor": "#EBF0F8",
           "zerolinewidth": 2
          }
         }
        },
        "title": {
         "text": "Support and Resistance — RELIANCE.NS"
        },
        "xaxis": {
         "rangeslider": {
          "visible": false
         },
         "title": {
          "text": "Date"
         }
        },
        "yaxis": {
         "title": {
          "text": "Price (INR)"
         }
        }
       }
      }
     },
     "metadata": {},
     "output_type": "display_data"
    },
    {
     "name": "stdout",
     "output_type": "stream",
     "text": [
      "✅ Support/Resistance CSV saved at data/processed/reliance_support_resistance.csv\n",
      "✅ Support/Resistance CSV saved at ../data/processed/reliance_support_resistance.csv\n"
     ]
    }
   ],
   "source": [
    "\n",
    "\n",
    "import sys\n",
    "import nbformat\n",
    "import pandas as pd\n",
    "import plotly.graph_objects as go\n",
    "\n",
    "# Add parent directory to sys.path so 'src' can be imported\n",
    "sys.path.append(\"../\")\n",
    "\n",
    "from src.data_loader import download_stock_data\n",
    "from src.support_resistance import find_support_resistance\n",
    "\n",
    "# Load fresh clean DataFrame\n",
    "df = download_stock_data(\"RELIANCE.NS\", period=\"6mo\")\n",
    "df.reset_index(drop=True, inplace=True)\n",
    "\n",
    "# Convert 'Date' to datetime if needed\n",
    "df['Date'] = pd.to_datetime(df['Date'])\n",
    "\n",
    "# Flatten MultiIndex columns if present\n",
    "if isinstance(df.columns, pd.MultiIndex):\n",
    "    df_flat = df.copy()\n",
    "    df_flat.columns = ['_'.join([str(i) for i in col if i]) for col in df.columns.values]\n",
    "else:\n",
    "    df_flat = df\n",
    "\n",
    "# Rename columns to match expected names for find_support_resistance\n",
    "df_sr = df_flat.rename(columns={\n",
    "    'Low_RELIANCE.NS': 'Low',\n",
    "    'High_RELIANCE.NS': 'High',\n",
    "    'Open_RELIANCE.NS': 'Open',\n",
    "    'Close_RELIANCE.NS': 'Close',\n",
    "    'Volume_RELIANCE.NS': 'Volume',\n",
    "    'Date_': 'Date'\n",
    "})\n",
    "\n",
    "# Find support/resistance\n",
    "sr_points = find_support_resistance(df_sr, order=5)\n",
    "\n",
    "# Convert SR Dates too\n",
    "sr_points['Date'] = pd.to_datetime(sr_points['Date'])\n",
    "\n",
    "# Drop any bad data just in case\n",
    "sr_points = sr_points.dropna(subset=['Date', 'Price'])\n",
    "\n",
    "# Plot\n",
    "fig = go.Figure()\n",
    "\n",
    "# Add candlestick chart\n",
    "fig.add_trace(go.Candlestick(\n",
    "    x=df[\"Date\"],\n",
    "    open=df[\"Open\"],\n",
    "    high=df[\"High\"],\n",
    "    low=df[\"Low\"],\n",
    "    close=df[\"Close\"],\n",
    "    name=\"Candlestick\",\n",
    "    increasing_line_color='green',\n",
    "    decreasing_line_color='red'\n",
    "))\n",
    "\n",
    "# Add SR points\n",
    "for _, row in sr_points.iterrows():\n",
    "    fig.add_trace(go.Scatter(\n",
    "        x=[row[\"Date\"]],\n",
    "        y=[row[\"Price\"]],\n",
    "        mode=\"markers+text\",\n",
    "        name=row[\"Type\"],\n",
    "        text=[row[\"Type\"]],\n",
    "        textposition=\"top center\",\n",
    "        marker=dict(\n",
    "            size=8,\n",
    "            color=\"green\" if row[\"Type\"] == \"Support\" else \"red\",\n",
    "            symbol=\"x\"\n",
    "        )\n",
    "    ))\n",
    "\n",
    "\n",
    "fig.update_layout(\n",
    "    title=\"Support and Resistance — RELIANCE.NS\",\n",
    "    xaxis_rangeslider_visible=False,\n",
    "    height=600,\n",
    "    template=\"plotly_white\",\n",
    "    yaxis_title=\"Price (INR)\",\n",
    "    xaxis_title=\"Date\"\n",
    ")\n",
    "\n",
    "fig.show()\n",
    "# Save to processed directory (create if doesn't exist)\n",
    "import os\n",
    "os.makedirs(\"../data/processed\", exist_ok=True)\n",
    "\n",
    "# Save CSV\n",
    "sr_points.to_csv(\"../data/processed/reliance_support_resistance.csv\", index=False)\n",
    "print(\"✅ Support/Resistance CSV saved at data/processed/reliance_support_resistance.csv\")\n",
    "import os\n",
    "\n",
    "# Ensure the 'data/processed' folder exists\n",
    "os.makedirs(\"../data/processed\", exist_ok=True)\n",
    "\n",
    "# Save SR points to CSV\n",
    "csv_path = \"../data/processed/reliance_support_resistance.csv\"\n",
    "sr_points.to_csv(csv_path, index=False)\n",
    "\n",
    "print(f\"✅ Support/Resistance CSV saved at {csv_path}\")\n"
   ]
  }
 ],
 "metadata": {
  "kernelspec": {
   "display_name": ".venv",
   "language": "python",
   "name": "python3"
  },
  "language_info": {
   "codemirror_mode": {
    "name": "ipython",
    "version": 3
   },
   "file_extension": ".py",
   "mimetype": "text/x-python",
   "name": "python",
   "nbconvert_exporter": "python",
   "pygments_lexer": "ipython3",
   "version": "3.11.9"
  }
 },
 "nbformat": 4,
 "nbformat_minor": 5
}
